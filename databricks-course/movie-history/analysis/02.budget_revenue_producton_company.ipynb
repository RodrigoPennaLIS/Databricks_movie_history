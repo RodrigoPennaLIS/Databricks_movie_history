{
 "cells": [
  {
   "cell_type": "code",
   "execution_count": 0,
   "metadata": {
    "application/vnd.databricks.v1+cell": {
     "cellMetadata": {
      "byteLimit": 2048000,
      "rowLimit": 10000
     },
     "inputWidgets": {},
     "nuid": "fa1f2abd-df39-41b3-b980-eee46f87992b",
     "showTitle": false,
     "tableResultSettingsMap": {},
     "title": ""
    }
   },
   "outputs": [],
   "source": [
    "USE movie_gold;"
   ]
  },
  {
   "cell_type": "code",
   "execution_count": 0,
   "metadata": {
    "application/vnd.databricks.v1+cell": {
     "cellMetadata": {
      "byteLimit": 2048000,
      "rowLimit": 10000
     },
     "inputWidgets": {},
     "nuid": "a24a1e93-929a-476f-9b61-631122dc4f59",
     "showTitle": false,
     "tableResultSettingsMap": {},
     "title": ""
    }
   },
   "outputs": [],
   "source": [
    "SELECT company_name,\n",
    "      COUNT(company_name) AS total_company_name,\n",
    "      SUM(budget) AS total_budget,\n",
    "      CAST(AVG(budget) AS DECIMAL(38,2)) as avg_budget,\n",
    "      SUM(revenue) AS total_revenue,\n",
    "      CAST(AVG(revenue) AS DECIMAL(38,2)) as avg_revenue\n",
    "FROM results_movie\n",
    "GROUP BY company_name\n",
    "ORDER BY total_revenue DESC"
   ]
  },
  {
   "cell_type": "code",
   "execution_count": 0,
   "metadata": {
    "application/vnd.databricks.v1+cell": {
     "cellMetadata": {
      "byteLimit": 2048000,
      "rowLimit": 10000
     },
     "inputWidgets": {},
     "nuid": "73c08c0b-70ea-4878-ab82-f70a51109260",
     "showTitle": false,
     "tableResultSettingsMap": {},
     "title": ""
    }
   },
   "outputs": [],
   "source": [
    "SELECT company_name,\n",
    "      COUNT(company_name) AS total_company_name,\n",
    "      SUM(budget) AS total_budget,\n",
    "      CAST(AVG(budget) AS DECIMAL(38,2)) as avg_budget,\n",
    "      SUM(revenue) AS total_revenue,\n",
    "      CAST(AVG(revenue) AS DECIMAL(38,2)) as avg_revenue\n",
    "FROM results_movie\n",
    "WHERE year_release_date BETWEEN 2000 AND 2005\n",
    "GROUP BY company_name\n",
    "ORDER BY total_revenue DESC"
   ]
  }
 ],
 "metadata": {
  "application/vnd.databricks.v1+notebook": {
   "computePreferences": null,
   "dashboards": [],
   "environmentMetadata": {
    "base_environment": "",
    "environment_version": "2"
   },
   "inputWidgetPreferences": null,
   "language": "sql",
   "notebookMetadata": {},
   "notebookName": "02.budget_revenue_producton_company",
   "widgets": {}
  },
  "language_info": {
   "name": "sql"
  }
 },
 "nbformat": 4,
 "nbformat_minor": 0
}
