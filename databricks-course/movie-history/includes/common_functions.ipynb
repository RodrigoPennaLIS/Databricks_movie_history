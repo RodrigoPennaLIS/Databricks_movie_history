{
 "cells": [
  {
   "cell_type": "code",
   "execution_count": 0,
   "metadata": {
    "application/vnd.databricks.v1+cell": {
     "cellMetadata": {},
     "inputWidgets": {},
     "nuid": "ab3adf89-c8ea-4464-9457-1917ce6755fe",
     "showTitle": false,
     "tableResultSettingsMap": {},
     "title": ""
    }
   },
   "outputs": [],
   "source": [
    "from pyspark.sql.functions import current_timestamp\n",
    "def add_ingestion_date(df):\n",
    "  return df.withColumn(\"ingestion_date\", current_timestamp())"
   ]
  },
  {
   "cell_type": "code",
   "execution_count": 0,
   "metadata": {
    "application/vnd.databricks.v1+cell": {
     "cellMetadata": {},
     "inputWidgets": {},
     "nuid": "0f052336-cb7f-4437-9f7a-7253dbe6d95d",
     "showTitle": false,
     "tableResultSettingsMap": {},
     "title": ""
    }
   },
   "outputs": [],
   "source": [
    "def overwrite_partition(input_df, db_name, table_name, column_partition):\n",
    "    for item_list in input_df.select(column_partition).distinct().collect():\n",
    "        if spark._jsparkSession.catalog().tableExists(f\"{db_name}.{table_name}\"):\n",
    "            spark.sql(f\"ALTER TABLE {db_name}.{table_name} DROP IF EXISTS PARTITION ({column_partition} = '{item_list[column_partition]}')\")"
   ]
  },
  {
   "cell_type": "code",
   "execution_count": 0,
   "metadata": {
    "application/vnd.databricks.v1+cell": {
     "cellMetadata": {},
     "inputWidgets": {},
     "nuid": "4b6dec7c-a691-4f99-b555-db0858c4cf1d",
     "showTitle": false,
     "tableResultSettingsMap": {},
     "title": ""
    }
   },
   "outputs": [],
   "source": [
    "def merge_delta_lake(input_df, db_name, table_name, folder_path, merge_condition, partition_column):\n",
    "\n",
    "    from delta.tables import DeltaTable\n",
    "\n",
    "    if (spark._jsparkSession.catalog().tableExists(f\"{db_name}.{table_name}\")):\n",
    "\n",
    "        deltaTable = DeltaTable.forPath(spark, f\"{folder_path}/{table_name}\")\n",
    "        \n",
    "        deltaTable.alias(\"tgt\") \\\n",
    "        .merge(\n",
    "            input_df.alias(\"src\"),\n",
    "            merge_condition\n",
    "        ) \\\n",
    "        .whenMatchedUpdateAll()\\\n",
    "        .whenNotMatchedInsertAll()\\\n",
    "        .execute()\n",
    "    else:\n",
    "        input_df.write.mode(\"overwrite\").partitionBy(partition_column).format(\"delta\").saveAsTable(f\"{db_name}.{table_name}\")"
   ]
  }
 ],
 "metadata": {
  "application/vnd.databricks.v1+notebook": {
   "computePreferences": null,
   "dashboards": [],
   "environmentMetadata": {
    "base_environment": "",
    "environment_version": "2"
   },
   "inputWidgetPreferences": null,
   "language": "python",
   "notebookMetadata": {
    "pythonIndentUnit": 4
   },
   "notebookName": "common_functions",
   "widgets": {}
  },
  "language_info": {
   "name": "python"
  }
 },
 "nbformat": 4,
 "nbformat_minor": 0
}
