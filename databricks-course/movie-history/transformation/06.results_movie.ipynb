{
 "cells": [
  {
   "cell_type": "code",
   "execution_count": 0,
   "metadata": {
    "application/vnd.databricks.v1+cell": {
     "cellMetadata": {
      "byteLimit": 2048000,
      "rowLimit": 10000
     },
     "inputWidgets": {},
     "nuid": "7c57416b-3735-4b57-9ae1-7b8de2f1b6c4",
     "showTitle": false,
     "tableResultSettingsMap": {},
     "title": ""
    }
   },
   "outputs": [],
   "source": [
    "dbutils.widgets.text(\"p_file_date\", \"2024-12-30\")\n",
    "v_file_date = dbutils.widgets.get(\"p_file_date\")"
   ]
  },
  {
   "cell_type": "code",
   "execution_count": 0,
   "metadata": {
    "application/vnd.databricks.v1+cell": {
     "cellMetadata": {
      "byteLimit": 2048000,
      "rowLimit": 10000
     },
     "inputWidgets": {},
     "nuid": "724523b8-5bdd-4738-870e-36a09300ea8d",
     "showTitle": false,
     "tableResultSettingsMap": {},
     "title": ""
    }
   },
   "outputs": [],
   "source": [
    "spark.sql(\"\"\"\n",
    "            CREATE TABLE IF NOT EXISTS movie_gold.results_movie\n",
    "            (\n",
    "                year_release_date INT,\n",
    "                country_name STRING,\n",
    "                company_name STRING,\n",
    "                budget FLOAT,\n",
    "                revenue FLOAT,\n",
    "                movie_id INT,\n",
    "                country_id INT,\n",
    "                company_id INT,\n",
    "                created_date DATE,\n",
    "                updated_date DATE\n",
    "            )\n",
    "            USING DELTA\n",
    "          \"\"\")"
   ]
  },
  {
   "cell_type": "code",
   "execution_count": 0,
   "metadata": {
    "application/vnd.databricks.v1+cell": {
     "cellMetadata": {
      "byteLimit": 2048000,
      "rowLimit": 10000
     },
     "inputWidgets": {},
     "nuid": "7a16f623-3f44-4b61-b47d-0628b0e2f2cb",
     "showTitle": false,
     "tableResultSettingsMap": {},
     "title": ""
    }
   },
   "outputs": [],
   "source": [
    "spark.sql(f\"\"\"\n",
    "            CREATE OR REPLACE TEMP VIEW v_results_movie\n",
    "            AS\n",
    "            SELECT M.year_release_date, C.country_name, PCO.company_name,\n",
    "                M.budget, M.revenue, M.movie_id, C.country_id, PCO.company_id\n",
    "            FROM movie_silver.movies M\n",
    "            INNER JOIN movie_silver.production_country PC ON M.movie_id = PC.movie_id\n",
    "            INNER JOIN movie_silver.country C ON C.country_id = PC.country_id\n",
    "            INNER JOIN movie_silver.movie_company MC ON M.movie_id = MC.movie_id\n",
    "            INNER JOIN movie_silver.productions_companies PCO ON MC.company_id = PCO.company_id\n",
    "            WHERE M.file_date = '{v_file_date}'\n",
    "\"\"\")\n"
   ]
  },
  {
   "cell_type": "code",
   "execution_count": 0,
   "metadata": {
    "application/vnd.databricks.v1+cell": {
     "cellMetadata": {
      "byteLimit": 2048000,
      "implicitDf": true,
      "rowLimit": 10000
     },
     "inputWidgets": {},
     "nuid": "c268b84d-7818-4382-a95a-ecbd652735dc",
     "showTitle": false,
     "tableResultSettingsMap": {},
     "title": ""
    }
   },
   "outputs": [],
   "source": [
    "%sql\n",
    "SELECT * FROM v_results_movie;"
   ]
  },
  {
   "cell_type": "code",
   "execution_count": 0,
   "metadata": {
    "application/vnd.databricks.v1+cell": {
     "cellMetadata": {
      "byteLimit": 2048000,
      "implicitDf": true,
      "rowLimit": 10000
     },
     "inputWidgets": {},
     "nuid": "1ba18493-c04d-483f-8d6b-448cb5dd2e2f",
     "showTitle": false,
     "tableResultSettingsMap": {},
     "title": ""
    }
   },
   "outputs": [],
   "source": [
    "%sql\n",
    "MERGE INTO movie_gold.results_movie tgt\n",
    "USING v_results_movie src\n",
    "ON (tgt.movie_id = src.movie_id AND tgt.country_id = src.country_id AND tgt.company_id = src.company_id)\n",
    "WHEN MATCHED THEN\n",
    "  UPDATE SET \n",
    "    tgt.year_release_date = src.year_release_date,\n",
    "    tgt.country_name = src.country_name,\n",
    "    tgt.company_name = src.company_name,\n",
    "    tgt.budget = src.budget,\n",
    "    tgt.revenue = src.revenue,\n",
    "    tgt.updated_date = current_timestamp\n",
    "WHEN NOT MATCHED THEN \n",
    "  INSERT(year_release_date, country_name, company_name, budget, revenue, created_date,\n",
    "          movie_id, country_id, company_id)\n",
    "  VALUES(year_release_date, country_name, company_name, budget, revenue, current_timestamp,\n",
    "          movie_id, country_id, company_id)"
   ]
  },
  {
   "cell_type": "code",
   "execution_count": 0,
   "metadata": {
    "application/vnd.databricks.v1+cell": {
     "cellMetadata": {
      "byteLimit": 2048000,
      "implicitDf": true,
      "rowLimit": 10000
     },
     "inputWidgets": {},
     "nuid": "a0af1cdc-4854-487e-bfd8-234d85564285",
     "showTitle": false,
     "tableResultSettingsMap": {},
     "title": ""
    }
   },
   "outputs": [],
   "source": [
    "%sql\n",
    "SELECT count(1) FROM v_results_movie;"
   ]
  },
  {
   "cell_type": "code",
   "execution_count": 0,
   "metadata": {
    "application/vnd.databricks.v1+cell": {
     "cellMetadata": {
      "byteLimit": 2048000,
      "implicitDf": true,
      "rowLimit": 10000
     },
     "inputWidgets": {},
     "nuid": "e6e7c9fd-5875-4037-98ac-d9fd507cc8e0",
     "showTitle": false,
     "tableResultSettingsMap": {},
     "title": ""
    }
   },
   "outputs": [],
   "source": [
    "%sql\n",
    "SELECT count(1) FROM movie_gold.results_movie;"
   ]
  }
 ],
 "metadata": {
  "application/vnd.databricks.v1+notebook": {
   "computePreferences": null,
   "dashboards": [],
   "environmentMetadata": {
    "base_environment": "",
    "environment_version": "2"
   },
   "inputWidgetPreferences": null,
   "language": "python",
   "notebookMetadata": {
    "mostRecentlyExecutedCommandWithImplicitDF": {
     "commandId": 5660014502487582,
     "dataframes": [
      "_sqldf"
     ]
    },
    "pythonIndentUnit": 4
   },
   "notebookName": "06.results_movie",
   "widgets": {
    "p_file_date": {
     "currentValue": "2024-12-16",
     "nuid": "70cefab5-a1de-4bac-8c23-bf3f92e5c5c4",
     "typedWidgetInfo": {
      "autoCreated": false,
      "defaultValue": "2024-12-30",
      "label": null,
      "name": "p_file_date",
      "options": {
       "widgetDisplayType": "Text",
       "validationRegex": null
      },
      "parameterDataType": "String"
     },
     "widgetInfo": {
      "widgetType": "text",
      "defaultValue": "2024-12-30",
      "label": null,
      "name": "p_file_date",
      "options": {
       "widgetType": "text",
       "autoCreated": null,
       "validationRegex": null
      }
     }
    }
   }
  },
  "language_info": {
   "name": "python"
  }
 },
 "nbformat": 4,
 "nbformat_minor": 0
}
